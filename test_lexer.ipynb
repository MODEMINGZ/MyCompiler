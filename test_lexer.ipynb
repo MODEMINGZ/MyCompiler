{
 "cells": [
  {
   "cell_type": "code",
   "execution_count": 1,
   "metadata": {},
   "outputs": [
    {
     "name": "stdout",
     "output_type": "stream",
     "text": [
      "Tokens: 40\n",
      "<Token { None>\n",
      "<Token STRING 'name'>\n",
      "<Token : None>\n",
      "<Token STRING 'John'>\n",
      "<Token , None>\n",
      "<Token STRING 'age'>\n",
      "<Token : None>\n",
      "<Token NUMBER 30>\n",
      "<Token , None>\n",
      "<Token STRING 'city'>\n",
      "<Token : None>\n",
      "<Token STRING 'New York'>\n",
      "<Token , None>\n",
      "<Token STRING 'isStudent'>\n",
      "<Token : None>\n",
      "<Token FALSE False>\n",
      "<Token , None>\n",
      "<Token STRING 'grades'>\n",
      "<Token : None>\n",
      "<Token [ None>\n",
      "<Token NUMBER 85>\n",
      "<Token , None>\n",
      "<Token NUMBER 90>\n",
      "<Token , None>\n",
      "<Token NUMBER 92.5>\n",
      "<Token ] None>\n",
      "<Token , None>\n",
      "<Token STRING 'contact'>\n",
      "<Token : None>\n",
      "<Token { None>\n",
      "<Token STRING 'email'>\n",
      "<Token : None>\n",
      "<Token STRING 'john@example.com'>\n",
      "<Token , None>\n",
      "<Token STRING 'phone'>\n",
      "<Token : None>\n",
      "<Token NULL None>\n",
      "<Token } None>\n",
      "<Token } None>\n",
      "<Token EOF None>\n"
     ]
    }
   ],
   "source": [
    "from json_compiler.lexer.scanner import JSONLexer\n",
    "\n",
    "complex_json = \"\"\"{\n",
    "    \"name\": \"John\",\n",
    "    \"age\": 30,\n",
    "    \"city\": \"New York\",\n",
    "    \"isStudent\": false,\n",
    "    \"grades\": [85, 90, 92.5],\n",
    "    \"contact\": {\"email\": \"john@example.com\", \"phone\": null}\n",
    "}\"\"\"\n",
    "\n",
    "lexer = JSONLexer(complex_json)\n",
    "tokens = lexer.scan_tokens()\n",
    "print(\"Tokens:\", len(tokens))\n",
    "for token in tokens:\n",
    "    print(token)"
   ]
  }
 ],
 "metadata": {
  "kernelspec": {
   "display_name": "python39",
   "language": "python",
   "name": "python3"
  },
  "language_info": {
   "codemirror_mode": {
    "name": "ipython",
    "version": 3
   },
   "file_extension": ".py",
   "mimetype": "text/x-python",
   "name": "python",
   "nbconvert_exporter": "python",
   "pygments_lexer": "ipython3",
   "version": "3.9.19"
  }
 },
 "nbformat": 4,
 "nbformat_minor": 2
}
