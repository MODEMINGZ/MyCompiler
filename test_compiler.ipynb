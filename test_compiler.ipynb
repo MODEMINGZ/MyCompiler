{
 "cells": [
  {
   "cell_type": "code",
   "execution_count": 1,
   "metadata": {},
   "outputs": [],
   "source": [
    "from json_compiler import json2py"
   ]
  },
  {
   "cell_type": "code",
   "execution_count": 2,
   "metadata": {},
   "outputs": [
    {
     "name": "stdout",
     "output_type": "stream",
     "text": [
      "{'name': 'John', 'age': 30, 'scores': [95.5, 88, None], 'meta': {'active': True, 'tags': ['staff', {'id': 7}]}}\n"
     ]
    }
   ],
   "source": [
    "complex_json = \"\"\"\n",
    "{\n",
    "    \"name\": \"John\",\n",
    "    \"age\": 30,\n",
    "    \"scores\": [95.5, 88, null],\n",
    "    \"meta\": {\n",
    "        \"active\": true,\n",
    "        \"tags\": [\"staff\", {\"id\": 7}]\n",
    "    }\n",
    "}\n",
    "\"\"\"\n",
    "print(json2py(complex_json))"
   ]
  },
  {
   "cell_type": "code",
   "execution_count": 3,
   "metadata": {},
   "outputs": [
    {
     "name": "stdout",
     "output_type": "stream",
     "text": [
      "测试JSON解析器:\n",
      "\n",
      "测试 1 成功:\n",
      "'Hello'\n",
      "\n",
      "测试 2 成功:\n",
      "123\n",
      "\n",
      "测试 3 成功:\n",
      "-456\n",
      "\n",
      "测试 4 成功:\n",
      "78.9\n",
      "\n",
      "测试 5 成功:\n",
      "-12.34\n",
      "\n",
      "测试 6 成功:\n",
      "1200.0\n",
      "\n",
      "测试 7 成功:\n",
      "-4.5e-06\n",
      "\n",
      "测试 8 成功:\n",
      "True\n",
      "\n",
      "测试 9 成功:\n",
      "False\n",
      "\n",
      "测试 10 成功:\n",
      "None\n",
      "\n",
      "测试 11 成功:\n",
      "[1, 2, 3]\n",
      "\n",
      "测试 12 成功:\n",
      "['a', 'b', 'c']\n",
      "\n",
      "测试 13 成功:\n",
      "[True, False, None]\n",
      "\n",
      "测试 14 成功:\n",
      "[[1, 2], [3, 4]]\n",
      "\n",
      "测试 15 成功:\n",
      "{'name': 'John'}\n",
      "\n",
      "测试 16 成功:\n",
      "{'age': 30}\n",
      "\n",
      "测试 17 成功:\n",
      "{'age': 30,\n",
      " 'city': 'New York',\n",
      " 'contact': {'email': 'john@example.com', 'phone': None},\n",
      " 'grades': [85, 90, 92.5],\n",
      " 'isStudent': False,\n",
      " 'name': 'John'}\n"
     ]
    }
   ],
   "source": [
    "from pprint import pprint\n",
    "\n",
    "# 定义测试JSON\n",
    "test_cases = [\n",
    "    # 基本类型\n",
    "    '\"Hello\"',\n",
    "    \"123\",\n",
    "    \"-456\",\n",
    "    \"78.9\",\n",
    "    \"-12.34\",\n",
    "    \"1.2e3\",\n",
    "    \"-4.5e-6\",\n",
    "    \"true\",\n",
    "    \"false\",\n",
    "    \"null\",\n",
    "    # 数组\n",
    "    \"[1, 2, 3]\",\n",
    "    '[\"a\", \"b\", \"c\"]',\n",
    "    \"[true, false, null]\",\n",
    "    # 嵌套数组\n",
    "    \"[[1, 2], [3, 4]]\",\n",
    "    # 对象\n",
    "    '{\"name\": \"John\"}',\n",
    "    '{\"age\": 30}',\n",
    "    # 复杂对象\n",
    "    \"\"\"\n",
    "    {\n",
    "        \"name\": \"John\",\n",
    "        \"age\": 30,\n",
    "        \"city\": \"New York\",\n",
    "        \"isStudent\": false,\n",
    "        \"grades\": [85, 90, 92.5],\n",
    "        \"contact\": {\"email\": \"john@example.com\", \"phone\": null}\n",
    "    }\n",
    "    \"\"\",\n",
    "]\n",
    "\n",
    "# 测试所有用例\n",
    "print(\"测试JSON解析器:\")\n",
    "for i, test in enumerate(test_cases):\n",
    "    try:\n",
    "        result = json2py(test)\n",
    "        print(f\"\\n测试 {i+1} 成功:\")\n",
    "        pprint(result)\n",
    "    except Exception as e:\n",
    "        print(f\"\\n测试 {i+1} 失败:\")\n",
    "        print(f\"输入: {test}\")\n",
    "        print(f\"错误: {e}\")"
   ]
  },
  {
   "cell_type": "markdown",
   "metadata": {},
   "source": [
    "测试错误处理"
   ]
  },
  {
   "cell_type": "code",
   "execution_count": 4,
   "metadata": {},
   "outputs": [
    {
     "ename": "JSONLexError",
     "evalue": "[行 1, 列 11] 非法字符 'i'",
     "output_type": "error",
     "traceback": [
      "\u001b[1;31m---------------------------------------------------------------------------\u001b[0m",
      "\u001b[1;31mJSONLexError\u001b[0m                              Traceback (most recent call last)",
      "Cell \u001b[1;32mIn[4], line 1\u001b[0m\n\u001b[1;32m----> 1\u001b[0m \u001b[43mjson2py\u001b[49m\u001b[43m(\u001b[49m\u001b[38;5;124;43m'\u001b[39;49m\u001b[38;5;124;43m{\u001b[39;49m\u001b[38;5;124;43m\"\u001b[39;49m\u001b[38;5;124;43mkey\u001b[39;49m\u001b[38;5;124;43m\"\u001b[39;49m\u001b[38;5;124;43m: invalid}\u001b[39;49m\u001b[38;5;124;43m'\u001b[39;49m\u001b[43m)\u001b[49m\n",
      "File \u001b[1;32md:\\Documents\\GitHub\\MyCompiler\\json_compiler\\__init__.py:10\u001b[0m, in \u001b[0;36mjson2py\u001b[1;34m(json_str)\u001b[0m\n\u001b[0;32m      8\u001b[0m \u001b[38;5;250m\u001b[39m\u001b[38;5;124;03m\"\"\"将 JSON 字符串转换为 Python 对象\"\"\"\u001b[39;00m\n\u001b[0;32m      9\u001b[0m lexer \u001b[38;5;241m=\u001b[39m JSONLexer(json_str)\n\u001b[1;32m---> 10\u001b[0m tokens \u001b[38;5;241m=\u001b[39m \u001b[43mlexer\u001b[49m\u001b[38;5;241;43m.\u001b[39;49m\u001b[43mscan_tokens\u001b[49m\u001b[43m(\u001b[49m\u001b[43m)\u001b[49m\n\u001b[0;32m     11\u001b[0m parser \u001b[38;5;241m=\u001b[39m JSONParser(tokens)\n\u001b[0;32m     12\u001b[0m \u001b[38;5;28;01mreturn\u001b[39;00m parser\u001b[38;5;241m.\u001b[39mparse()\n",
      "File \u001b[1;32md:\\Documents\\GitHub\\MyCompiler\\json_compiler\\lexer\\scanner.py:56\u001b[0m, in \u001b[0;36mJSONLexer.scan_tokens\u001b[1;34m(self)\u001b[0m\n\u001b[0;32m     54\u001b[0m         \u001b[38;5;28mself\u001b[39m\u001b[38;5;241m.\u001b[39m_add_token(TokenType\u001b[38;5;241m.\u001b[39mCOLON)\n\u001b[0;32m     55\u001b[0m     \u001b[38;5;28;01melse\u001b[39;00m:\n\u001b[1;32m---> 56\u001b[0m         \u001b[38;5;28;01mraise\u001b[39;00m JSONLexError(\u001b[38;5;28mself\u001b[39m\u001b[38;5;241m.\u001b[39mline, \u001b[38;5;28mself\u001b[39m\u001b[38;5;241m.\u001b[39mcolumn, \u001b[38;5;124mf\u001b[39m\u001b[38;5;124m\"\u001b[39m\u001b[38;5;124m非法字符 \u001b[39m\u001b[38;5;124m'\u001b[39m\u001b[38;5;132;01m{\u001b[39;00mchar\u001b[38;5;132;01m}\u001b[39;00m\u001b[38;5;124m'\u001b[39m\u001b[38;5;124m\"\u001b[39m)\n\u001b[0;32m     58\u001b[0m \u001b[38;5;28mself\u001b[39m\u001b[38;5;241m.\u001b[39mtokens\u001b[38;5;241m.\u001b[39mappend(Token(TokenType\u001b[38;5;241m.\u001b[39mEOF, \u001b[38;5;28;01mNone\u001b[39;00m, \u001b[38;5;28mself\u001b[39m\u001b[38;5;241m.\u001b[39mline, \u001b[38;5;28mself\u001b[39m\u001b[38;5;241m.\u001b[39mcolumn))\n\u001b[0;32m     60\u001b[0m \u001b[38;5;28;01mreturn\u001b[39;00m \u001b[38;5;28mself\u001b[39m\u001b[38;5;241m.\u001b[39mtokens\n",
      "\u001b[1;31mJSONLexError\u001b[0m: [行 1, 列 11] 非法字符 'i'"
     ]
    }
   ],
   "source": [
    "json2py('{\"key\": invalid}')"
   ]
  },
  {
   "cell_type": "code",
   "execution_count": 5,
   "metadata": {},
   "outputs": [
    {
     "ename": "JSONParseError",
     "evalue": "[行 1, 列 4] 语法错误，实际遇到 ,",
     "output_type": "error",
     "traceback": [
      "\u001b[1;31m---------------------------------------------------------------------------\u001b[0m",
      "\u001b[1;31mJSONParseError\u001b[0m                            Traceback (most recent call last)",
      "Cell \u001b[1;32mIn[5], line 1\u001b[0m\n\u001b[1;32m----> 1\u001b[0m \u001b[43mjson2py\u001b[49m\u001b[43m(\u001b[49m\u001b[38;5;124;43m\"\u001b[39;49m\u001b[38;5;124;43m[1,,2]\u001b[39;49m\u001b[38;5;124;43m\"\u001b[39;49m\u001b[43m)\u001b[49m\n",
      "File \u001b[1;32md:\\Documents\\GitHub\\MyCompiler\\json_compiler\\__init__.py:12\u001b[0m, in \u001b[0;36mjson2py\u001b[1;34m(json_str)\u001b[0m\n\u001b[0;32m     10\u001b[0m tokens \u001b[38;5;241m=\u001b[39m lexer\u001b[38;5;241m.\u001b[39mscan_tokens()\n\u001b[0;32m     11\u001b[0m parser \u001b[38;5;241m=\u001b[39m JSONParser(tokens)\n\u001b[1;32m---> 12\u001b[0m \u001b[38;5;28;01mreturn\u001b[39;00m \u001b[43mparser\u001b[49m\u001b[38;5;241;43m.\u001b[39;49m\u001b[43mparse\u001b[49m\u001b[43m(\u001b[49m\u001b[43m)\u001b[49m\n",
      "File \u001b[1;32md:\\Documents\\GitHub\\MyCompiler\\json_compiler\\parser\\parser.py:16\u001b[0m, in \u001b[0;36mJSONParser.parse\u001b[1;34m(self)\u001b[0m\n\u001b[0;32m     14\u001b[0m \u001b[38;5;28;01mif\u001b[39;00m \u001b[38;5;129;01mnot\u001b[39;00m \u001b[38;5;28mself\u001b[39m\u001b[38;5;241m.\u001b[39mtokens:\n\u001b[0;32m     15\u001b[0m     \u001b[38;5;28;01mreturn\u001b[39;00m \u001b[38;5;28;01mNone\u001b[39;00m\n\u001b[1;32m---> 16\u001b[0m \u001b[38;5;28;01mreturn\u001b[39;00m \u001b[38;5;28;43mself\u001b[39;49m\u001b[38;5;241;43m.\u001b[39;49m\u001b[43m_parse_value\u001b[49m\u001b[43m(\u001b[49m\u001b[43m)\u001b[49m\n",
      "File \u001b[1;32md:\\Documents\\GitHub\\MyCompiler\\json_compiler\\parser\\parser.py:22\u001b[0m, in \u001b[0;36mJSONParser._parse_value\u001b[1;34m(self)\u001b[0m\n\u001b[0;32m     19\u001b[0m token \u001b[38;5;241m=\u001b[39m \u001b[38;5;28mself\u001b[39m\u001b[38;5;241m.\u001b[39m_next()\n\u001b[0;32m     21\u001b[0m \u001b[38;5;28;01mif\u001b[39;00m token\u001b[38;5;241m.\u001b[39mtoken_type \u001b[38;5;241m==\u001b[39m TokenType\u001b[38;5;241m.\u001b[39mLBRACKET:\n\u001b[1;32m---> 22\u001b[0m     \u001b[38;5;28;01mreturn\u001b[39;00m \u001b[38;5;28;43mself\u001b[39;49m\u001b[38;5;241;43m.\u001b[39;49m\u001b[43m_parse_list\u001b[49m\u001b[43m(\u001b[49m\u001b[43m)\u001b[49m\n\u001b[0;32m     23\u001b[0m \u001b[38;5;28;01melif\u001b[39;00m token\u001b[38;5;241m.\u001b[39mtoken_type \u001b[38;5;241m==\u001b[39m TokenType\u001b[38;5;241m.\u001b[39mLBRACE:\n\u001b[0;32m     24\u001b[0m     \u001b[38;5;28;01mreturn\u001b[39;00m \u001b[38;5;28mself\u001b[39m\u001b[38;5;241m.\u001b[39m_parse_dict()\n",
      "File \u001b[1;32md:\\Documents\\GitHub\\MyCompiler\\json_compiler\\parser\\parser.py:53\u001b[0m, in \u001b[0;36mJSONParser._parse_list\u001b[1;34m(self)\u001b[0m\n\u001b[0;32m     51\u001b[0m arr \u001b[38;5;241m=\u001b[39m []\n\u001b[0;32m     52\u001b[0m \u001b[38;5;28;01mwhile\u001b[39;00m \u001b[38;5;129;01mnot\u001b[39;00m \u001b[38;5;28mself\u001b[39m\u001b[38;5;241m.\u001b[39m_check(TokenType\u001b[38;5;241m.\u001b[39mRBRACKET):\n\u001b[1;32m---> 53\u001b[0m     arr\u001b[38;5;241m.\u001b[39mappend(\u001b[38;5;28;43mself\u001b[39;49m\u001b[38;5;241;43m.\u001b[39;49m\u001b[43m_parse_value\u001b[49m\u001b[43m(\u001b[49m\u001b[43m)\u001b[49m)  \u001b[38;5;66;03m# 递归调用\u001b[39;00m\n\u001b[0;32m     54\u001b[0m     \u001b[38;5;28;01mif\u001b[39;00m \u001b[38;5;129;01mnot\u001b[39;00m \u001b[38;5;28mself\u001b[39m\u001b[38;5;241m.\u001b[39m_match(TokenType\u001b[38;5;241m.\u001b[39mCOMMA):\n\u001b[0;32m     55\u001b[0m         \u001b[38;5;28;01mbreak\u001b[39;00m\n",
      "File \u001b[1;32md:\\Documents\\GitHub\\MyCompiler\\json_compiler\\parser\\parser.py:36\u001b[0m, in \u001b[0;36mJSONParser._parse_value\u001b[1;34m(self)\u001b[0m\n\u001b[0;32m     34\u001b[0m     \u001b[38;5;28;01mreturn\u001b[39;00m \u001b[38;5;28;01mNone\u001b[39;00m\n\u001b[0;32m     35\u001b[0m \u001b[38;5;28;01melse\u001b[39;00m:\n\u001b[1;32m---> 36\u001b[0m     \u001b[38;5;28;43mself\u001b[39;49m\u001b[38;5;241;43m.\u001b[39;49m\u001b[43m_error\u001b[49m\u001b[43m(\u001b[49m\u001b[43mtoken\u001b[49m\u001b[43m,\u001b[49m\u001b[43m \u001b[49m\u001b[38;5;124;43m\"\u001b[39;49m\u001b[38;5;124;43m语法错误\u001b[39;49m\u001b[38;5;124;43m\"\u001b[39;49m\u001b[43m)\u001b[49m\n",
      "File \u001b[1;32md:\\Documents\\GitHub\\MyCompiler\\json_compiler\\parser\\parser.py:87\u001b[0m, in \u001b[0;36mJSONParser._error\u001b[1;34m(self, token, message)\u001b[0m\n\u001b[0;32m     86\u001b[0m \u001b[38;5;28;01mdef\u001b[39;00m \u001b[38;5;21m_error\u001b[39m(\u001b[38;5;28mself\u001b[39m, token: Token, message: \u001b[38;5;28mstr\u001b[39m):\n\u001b[1;32m---> 87\u001b[0m     \u001b[38;5;28;01mraise\u001b[39;00m JSONParseError(\n\u001b[0;32m     88\u001b[0m         line\u001b[38;5;241m=\u001b[39mtoken\u001b[38;5;241m.\u001b[39mline,\n\u001b[0;32m     89\u001b[0m         column\u001b[38;5;241m=\u001b[39mtoken\u001b[38;5;241m.\u001b[39mcolumn,\n\u001b[0;32m     90\u001b[0m         message\u001b[38;5;241m=\u001b[39m\u001b[38;5;124mf\u001b[39m\u001b[38;5;124m\"\u001b[39m\u001b[38;5;132;01m{\u001b[39;00mmessage\u001b[38;5;132;01m}\u001b[39;00m\u001b[38;5;124m，实际遇到 \u001b[39m\u001b[38;5;132;01m{\u001b[39;00mtoken\u001b[38;5;241m.\u001b[39mtoken_type\u001b[38;5;132;01m}\u001b[39;00m\u001b[38;5;124m\"\u001b[39m,\n\u001b[0;32m     91\u001b[0m     )\n",
      "\u001b[1;31mJSONParseError\u001b[0m: [行 1, 列 4] 语法错误，实际遇到 ,"
     ]
    }
   ],
   "source": [
    "json2py(\"[1,,2]\")"
   ]
  },
  {
   "cell_type": "code",
   "execution_count": 6,
   "metadata": {},
   "outputs": [
    {
     "ename": "JSONParseError",
     "evalue": "[行 1, 列 14] 字典键后缺少冒号，实际遇到 NUMBER",
     "output_type": "error",
     "traceback": [
      "\u001b[1;31m---------------------------------------------------------------------------\u001b[0m",
      "\u001b[1;31mJSONParseError\u001b[0m                            Traceback (most recent call last)",
      "Cell \u001b[1;32mIn[6], line 1\u001b[0m\n\u001b[1;32m----> 1\u001b[0m \u001b[43mjson2py\u001b[49m\u001b[43m(\u001b[49m\u001b[38;5;124;43m'\u001b[39;49m\u001b[38;5;124;43m{\u001b[39;49m\u001b[38;5;124;43m\"\u001b[39;49m\u001b[38;5;124;43mno_colon\u001b[39;49m\u001b[38;5;124;43m\"\u001b[39;49m\u001b[38;5;124;43m 42}\u001b[39;49m\u001b[38;5;124;43m'\u001b[39;49m\u001b[43m)\u001b[49m\n",
      "File \u001b[1;32md:\\Documents\\GitHub\\MyCompiler\\json_compiler\\__init__.py:12\u001b[0m, in \u001b[0;36mjson2py\u001b[1;34m(json_str)\u001b[0m\n\u001b[0;32m     10\u001b[0m tokens \u001b[38;5;241m=\u001b[39m lexer\u001b[38;5;241m.\u001b[39mscan_tokens()\n\u001b[0;32m     11\u001b[0m parser \u001b[38;5;241m=\u001b[39m JSONParser(tokens)\n\u001b[1;32m---> 12\u001b[0m \u001b[38;5;28;01mreturn\u001b[39;00m \u001b[43mparser\u001b[49m\u001b[38;5;241;43m.\u001b[39;49m\u001b[43mparse\u001b[49m\u001b[43m(\u001b[49m\u001b[43m)\u001b[49m\n",
      "File \u001b[1;32md:\\Documents\\GitHub\\MyCompiler\\json_compiler\\parser\\parser.py:16\u001b[0m, in \u001b[0;36mJSONParser.parse\u001b[1;34m(self)\u001b[0m\n\u001b[0;32m     14\u001b[0m \u001b[38;5;28;01mif\u001b[39;00m \u001b[38;5;129;01mnot\u001b[39;00m \u001b[38;5;28mself\u001b[39m\u001b[38;5;241m.\u001b[39mtokens:\n\u001b[0;32m     15\u001b[0m     \u001b[38;5;28;01mreturn\u001b[39;00m \u001b[38;5;28;01mNone\u001b[39;00m\n\u001b[1;32m---> 16\u001b[0m \u001b[38;5;28;01mreturn\u001b[39;00m \u001b[38;5;28;43mself\u001b[39;49m\u001b[38;5;241;43m.\u001b[39;49m\u001b[43m_parse_value\u001b[49m\u001b[43m(\u001b[49m\u001b[43m)\u001b[49m\n",
      "File \u001b[1;32md:\\Documents\\GitHub\\MyCompiler\\json_compiler\\parser\\parser.py:24\u001b[0m, in \u001b[0;36mJSONParser._parse_value\u001b[1;34m(self)\u001b[0m\n\u001b[0;32m     22\u001b[0m     \u001b[38;5;28;01mreturn\u001b[39;00m \u001b[38;5;28mself\u001b[39m\u001b[38;5;241m.\u001b[39m_parse_list()\n\u001b[0;32m     23\u001b[0m \u001b[38;5;28;01melif\u001b[39;00m token\u001b[38;5;241m.\u001b[39mtoken_type \u001b[38;5;241m==\u001b[39m TokenType\u001b[38;5;241m.\u001b[39mLBRACE:\n\u001b[1;32m---> 24\u001b[0m     \u001b[38;5;28;01mreturn\u001b[39;00m \u001b[38;5;28;43mself\u001b[39;49m\u001b[38;5;241;43m.\u001b[39;49m\u001b[43m_parse_dict\u001b[49m\u001b[43m(\u001b[49m\u001b[43m)\u001b[49m\n\u001b[0;32m     25\u001b[0m \u001b[38;5;28;01melif\u001b[39;00m token\u001b[38;5;241m.\u001b[39mtoken_type \u001b[38;5;241m==\u001b[39m TokenType\u001b[38;5;241m.\u001b[39mSTRING:\n\u001b[0;32m     26\u001b[0m     \u001b[38;5;28;01mreturn\u001b[39;00m token\u001b[38;5;241m.\u001b[39mvalue\n",
      "File \u001b[1;32md:\\Documents\\GitHub\\MyCompiler\\json_compiler\\parser\\parser.py:42\u001b[0m, in \u001b[0;36mJSONParser._parse_dict\u001b[1;34m(self)\u001b[0m\n\u001b[0;32m     40\u001b[0m \u001b[38;5;28;01mwhile\u001b[39;00m \u001b[38;5;129;01mnot\u001b[39;00m \u001b[38;5;28mself\u001b[39m\u001b[38;5;241m.\u001b[39m_check(TokenType\u001b[38;5;241m.\u001b[39mRBRACE):\n\u001b[0;32m     41\u001b[0m     key \u001b[38;5;241m=\u001b[39m \u001b[38;5;28mself\u001b[39m\u001b[38;5;241m.\u001b[39m_consume(TokenType\u001b[38;5;241m.\u001b[39mSTRING, \u001b[38;5;124m\"\u001b[39m\u001b[38;5;124m字典键必须是字符串\u001b[39m\u001b[38;5;124m\"\u001b[39m)\u001b[38;5;241m.\u001b[39mvalue\n\u001b[1;32m---> 42\u001b[0m     \u001b[38;5;28;43mself\u001b[39;49m\u001b[38;5;241;43m.\u001b[39;49m\u001b[43m_consume\u001b[49m\u001b[43m(\u001b[49m\u001b[43mTokenType\u001b[49m\u001b[38;5;241;43m.\u001b[39;49m\u001b[43mCOLON\u001b[49m\u001b[43m,\u001b[49m\u001b[43m \u001b[49m\u001b[38;5;124;43m\"\u001b[39;49m\u001b[38;5;124;43m字典键后缺少冒号\u001b[39;49m\u001b[38;5;124;43m\"\u001b[39;49m\u001b[43m)\u001b[49m\n\u001b[0;32m     43\u001b[0m     value \u001b[38;5;241m=\u001b[39m \u001b[38;5;28mself\u001b[39m\u001b[38;5;241m.\u001b[39m_parse_value()\n\u001b[0;32m     44\u001b[0m     obj[key] \u001b[38;5;241m=\u001b[39m value\n",
      "File \u001b[1;32md:\\Documents\\GitHub\\MyCompiler\\json_compiler\\parser\\parser.py:65\u001b[0m, in \u001b[0;36mJSONParser._consume\u001b[1;34m(self, token_type, error_msg)\u001b[0m\n\u001b[0;32m     63\u001b[0m \u001b[38;5;28;01melse\u001b[39;00m:\n\u001b[0;32m     64\u001b[0m     token \u001b[38;5;241m=\u001b[39m \u001b[38;5;28mself\u001b[39m\u001b[38;5;241m.\u001b[39mtokens[\u001b[38;5;28mself\u001b[39m\u001b[38;5;241m.\u001b[39mcurrent]\n\u001b[1;32m---> 65\u001b[0m     \u001b[38;5;28;43mself\u001b[39;49m\u001b[38;5;241;43m.\u001b[39;49m\u001b[43m_error\u001b[49m\u001b[43m(\u001b[49m\u001b[43mtoken\u001b[49m\u001b[43m,\u001b[49m\u001b[43m \u001b[49m\u001b[43merror_msg\u001b[49m\u001b[43m)\u001b[49m\n",
      "File \u001b[1;32md:\\Documents\\GitHub\\MyCompiler\\json_compiler\\parser\\parser.py:87\u001b[0m, in \u001b[0;36mJSONParser._error\u001b[1;34m(self, token, message)\u001b[0m\n\u001b[0;32m     86\u001b[0m \u001b[38;5;28;01mdef\u001b[39;00m \u001b[38;5;21m_error\u001b[39m(\u001b[38;5;28mself\u001b[39m, token: Token, message: \u001b[38;5;28mstr\u001b[39m):\n\u001b[1;32m---> 87\u001b[0m     \u001b[38;5;28;01mraise\u001b[39;00m JSONParseError(\n\u001b[0;32m     88\u001b[0m         line\u001b[38;5;241m=\u001b[39mtoken\u001b[38;5;241m.\u001b[39mline,\n\u001b[0;32m     89\u001b[0m         column\u001b[38;5;241m=\u001b[39mtoken\u001b[38;5;241m.\u001b[39mcolumn,\n\u001b[0;32m     90\u001b[0m         message\u001b[38;5;241m=\u001b[39m\u001b[38;5;124mf\u001b[39m\u001b[38;5;124m\"\u001b[39m\u001b[38;5;132;01m{\u001b[39;00mmessage\u001b[38;5;132;01m}\u001b[39;00m\u001b[38;5;124m，实际遇到 \u001b[39m\u001b[38;5;132;01m{\u001b[39;00mtoken\u001b[38;5;241m.\u001b[39mtoken_type\u001b[38;5;132;01m}\u001b[39;00m\u001b[38;5;124m\"\u001b[39m,\n\u001b[0;32m     91\u001b[0m     )\n",
      "\u001b[1;31mJSONParseError\u001b[0m: [行 1, 列 14] 字典键后缺少冒号，实际遇到 NUMBER"
     ]
    }
   ],
   "source": [
    "json2py('{\"no_colon\" 42}')"
   ]
  }
 ],
 "metadata": {
  "kernelspec": {
   "display_name": "python39",
   "language": "python",
   "name": "python3"
  },
  "language_info": {
   "codemirror_mode": {
    "name": "ipython",
    "version": 3
   },
   "file_extension": ".py",
   "mimetype": "text/x-python",
   "name": "python",
   "nbconvert_exporter": "python",
   "pygments_lexer": "ipython3",
   "version": "3.9.19"
  }
 },
 "nbformat": 4,
 "nbformat_minor": 2
}
