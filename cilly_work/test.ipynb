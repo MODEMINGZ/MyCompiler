{
 "cells": [
  {
   "cell_type": "markdown",
   "metadata": {},
   "source": [
    "# 测试Lexer"
   ]
  },
  {
   "cell_type": "code",
   "execution_count": 1,
   "metadata": {},
   "outputs": [],
   "source": [
    "from cilly.lexer.scanner import *\n",
    "from cilly.lexer.tokens import *\n",
    "from cilly.exceptions import *\n",
    "from cilly.parser.parser import *"
   ]
  },
  {
   "cell_type": "code",
   "execution_count": 5,
   "metadata": {},
   "outputs": [
    {
     "data": {
      "text/plain": [
       "[['eof', None]]"
      ]
     },
     "execution_count": 5,
     "metadata": {},
     "output_type": "execute_result"
    }
   ],
   "source": [
    "\"\"\"测试空输入\"\"\"\n",
    "tokenize(\"\")"
   ]
  },
  {
   "cell_type": "code",
   "execution_count": 6,
   "metadata": {},
   "outputs": [
    {
     "data": {
      "text/plain": [
       "[['eof', None]]"
      ]
     },
     "execution_count": 6,
     "metadata": {},
     "output_type": "execute_result"
    }
   ],
   "source": [
    "\"\"\"测试空白字符处理\"\"\"\n",
    "tokenize(\"   \\t\\n\\r  \")"
   ]
  },
  {
   "cell_type": "code",
   "execution_count": 7,
   "metadata": {},
   "outputs": [
    {
     "data": {
      "text/plain": [
       "[['num', 42], ['num', 3.14], ['eof', None]]"
      ]
     },
     "execution_count": 7,
     "metadata": {},
     "output_type": "execute_result"
    }
   ],
   "source": [
    "\"\"\"测试数字识别\"\"\"\n",
    "tokenize(\"42\")\n",
    "tokenize(\"3.14\")\n",
    "tokenize(\"42 3.14\")"
   ]
  },
  {
   "cell_type": "code",
   "execution_count": 8,
   "metadata": {},
   "outputs": [
    {
     "data": {
      "text/plain": [
       "[['str', 'Hello, World!'], ['eof', None]]"
      ]
     },
     "execution_count": 8,
     "metadata": {},
     "output_type": "execute_result"
    }
   ],
   "source": [
    "\"\"\"测试字符串识别\"\"\"\n",
    "tokenize('\"Hello, World!\"')"
   ]
  },
  {
   "cell_type": "code",
   "execution_count": 9,
   "metadata": {},
   "outputs": [
    {
     "data": {
      "text/plain": [
       "[['id', 'variable_name'], ['eof', None]]"
      ]
     },
     "execution_count": 9,
     "metadata": {},
     "output_type": "execute_result"
    }
   ],
   "source": [
    "\"\"\"测试标识符和关键字识别\"\"\"\n",
    "tokenize(\"variable_name\")"
   ]
  },
  {
   "cell_type": "code",
   "execution_count": 10,
   "metadata": {},
   "outputs": [
    {
     "data": {
      "text/plain": [
       "[['var', None], ['if', None], ['else', None], ['while', None], ['eof', None]]"
      ]
     },
     "execution_count": 10,
     "metadata": {},
     "output_type": "execute_result"
    }
   ],
   "source": [
    "tokenize(\"var if else while\")"
   ]
  },
  {
   "cell_type": "code",
   "execution_count": null,
   "metadata": {},
   "outputs": [
    {
     "data": {
      "text/plain": [
       "[['+', None],\n",
       " ['-', None],\n",
       " ['*', None],\n",
       " ['/', None],\n",
       " ['(', None],\n",
       " [')', None],\n",
       " ['eof', None]]"
      ]
     },
     "execution_count": 11,
     "metadata": {},
     "output_type": "execute_result"
    }
   ],
   "source": [
    "\"\"\"测试运算符识别\"\"\"\n",
    "tokenize(\"+ - * / ( )\")"
   ]
  },
  {
   "cell_type": "code",
   "execution_count": 12,
   "metadata": {},
   "outputs": [
    {
     "data": {
      "text/plain": [
       "[['>=', None],\n",
       " ['<=', None],\n",
       " ['==', None],\n",
       " ['!=', None],\n",
       " ['&&', None],\n",
       " ['||', None],\n",
       " ['eof', None]]"
      ]
     },
     "execution_count": 12,
     "metadata": {},
     "output_type": "execute_result"
    }
   ],
   "source": [
    "tokenize(\">= <= == != && ||\")"
   ]
  },
  {
   "cell_type": "code",
   "execution_count": 13,
   "metadata": {},
   "outputs": [
    {
     "data": {
      "text/plain": [
       "[['var', None],\n",
       " ['id', 'x'],\n",
       " ['=', None],\n",
       " ['num', 42],\n",
       " ['+', None],\n",
       " ['id', 'y'],\n",
       " ['*', None],\n",
       " ['num', 3.14],\n",
       " [';', None],\n",
       " ['if', None],\n",
       " ['(', None],\n",
       " ['id', 'x'],\n",
       " ['>=', None],\n",
       " ['num', 100],\n",
       " [')', None],\n",
       " ['{', None],\n",
       " ['print', None],\n",
       " ['(', None],\n",
       " ['str', 'Large!'],\n",
       " [')', None],\n",
       " [';', None],\n",
       " ['}', None],\n",
       " ['eof', None]]"
      ]
     },
     "execution_count": 13,
     "metadata": {},
     "output_type": "execute_result"
    }
   ],
   "source": [
    "\"\"\"测试复杂表达式\"\"\"\n",
    "source = 'var x = 42 + y * 3.14; if (x >= 100) { print(\"Large!\"); }'\n",
    "tokenize(source)"
   ]
  },
  {
   "cell_type": "code",
   "execution_count": 2,
   "metadata": {},
   "outputs": [
    {
     "data": {
      "text/plain": [
       "[['var', None],\n",
       " ['id', 'x'],\n",
       " ['=', None],\n",
       " ['num', 10],\n",
       " [';', None],\n",
       " ['id', 'x'],\n",
       " ['=', None],\n",
       " ['id', 'x'],\n",
       " ['+', None],\n",
       " ['num', 1],\n",
       " [';', None],\n",
       " ['eof', None]]"
      ]
     },
     "execution_count": 2,
     "metadata": {},
     "output_type": "execute_result"
    }
   ],
   "source": [
    "tokens = \"\"\"\n",
    "var x = 10; // 这是一个注释\n",
    "x = x + 1;  // 增加x的值\n",
    "\"\"\"\n",
    "tokenize(tokens)"
   ]
  },
  {
   "cell_type": "code",
   "execution_count": 3,
   "metadata": {},
   "outputs": [
    {
     "data": {
      "text/plain": [
       "[['eof', None]]"
      ]
     },
     "execution_count": 3,
     "metadata": {},
     "output_type": "execute_result"
    }
   ],
   "source": [
    "tokens = \"\"\"\n",
    "//123\n",
    "\"\"\"\n",
    "tokenize(tokens)"
   ]
  },
  {
   "cell_type": "code",
   "execution_count": 14,
   "metadata": {},
   "outputs": [
    {
     "ename": "LexerError",
     "evalue": "cilly lexer : 非法字符: @",
     "output_type": "error",
     "traceback": [
      "\u001b[1;31m---------------------------------------------------------------------------\u001b[0m",
      "\u001b[1;31mLexerError\u001b[0m                                Traceback (most recent call last)",
      "Cell \u001b[1;32mIn[14], line 2\u001b[0m\n\u001b[0;32m      1\u001b[0m \u001b[38;5;124;03m\"\"\"测试无效字符处理\"\"\"\u001b[39;00m\n\u001b[1;32m----> 2\u001b[0m \u001b[43mtokenize\u001b[49m\u001b[43m(\u001b[49m\u001b[38;5;124;43m\"\u001b[39;49m\u001b[38;5;124;43m@\u001b[39;49m\u001b[38;5;124;43m\"\u001b[39;49m\u001b[43m)\u001b[49m\n",
      "File \u001b[1;32md:\\Documents\\GitHub\\MyCompiler\\cilly_work\\cilly\\lexer\\scanner.py:134\u001b[0m, in \u001b[0;36mtokenize\u001b[1;34m(source)\u001b[0m\n\u001b[0;32m    132\u001b[0m tokens \u001b[38;5;241m=\u001b[39m []\n\u001b[0;32m    133\u001b[0m \u001b[38;5;28;01mwhile\u001b[39;00m \u001b[38;5;28;01mTrue\u001b[39;00m:\n\u001b[1;32m--> 134\u001b[0m     token \u001b[38;5;241m=\u001b[39m \u001b[43mscanner\u001b[49m\u001b[38;5;241;43m.\u001b[39;49m\u001b[43mget_next_token\u001b[49m\u001b[43m(\u001b[49m\u001b[43m)\u001b[49m\n\u001b[0;32m    135\u001b[0m     tokens\u001b[38;5;241m.\u001b[39mappend(token)\n\u001b[0;32m    136\u001b[0m     \u001b[38;5;28;01mif\u001b[39;00m token \u001b[38;5;241m==\u001b[39m EOF_TOKEN:\n",
      "File \u001b[1;32md:\\Documents\\GitHub\\MyCompiler\\cilly_work\\cilly\\lexer\\scanner.py:124\u001b[0m, in \u001b[0;36mScanner.get_next_token\u001b[1;34m(self)\u001b[0m\n\u001b[0;32m    121\u001b[0m         \u001b[38;5;28mself\u001b[39m\u001b[38;5;241m.\u001b[39madvance()\n\u001b[0;32m    122\u001b[0m         \u001b[38;5;28;01mreturn\u001b[39;00m token\n\u001b[1;32m--> 124\u001b[0m     \u001b[38;5;28;01mraise\u001b[39;00m LexerError(\u001b[38;5;124mf\u001b[39m\u001b[38;5;124m\"\u001b[39m\u001b[38;5;124m非法字符: \u001b[39m\u001b[38;5;132;01m{\u001b[39;00m\u001b[38;5;28mself\u001b[39m\u001b[38;5;241m.\u001b[39mcurrent_char\u001b[38;5;132;01m}\u001b[39;00m\u001b[38;5;124m\"\u001b[39m)\n\u001b[0;32m    126\u001b[0m \u001b[38;5;28;01mreturn\u001b[39;00m EOF_TOKEN\n",
      "\u001b[1;31mLexerError\u001b[0m: cilly lexer : 非法字符: @"
     ]
    }
   ],
   "source": [
    "\"\"\"测试无效字符处理\"\"\"\n",
    "tokenize(\"@\")"
   ]
  },
  {
   "cell_type": "markdown",
   "metadata": {},
   "source": [
    "# 测试Parser"
   ]
  },
  {
   "cell_type": "code",
   "execution_count": null,
   "metadata": {},
   "outputs": [
    {
     "data": {
      "text/plain": [
       "['program', []]"
      ]
     },
     "execution_count": 24,
     "metadata": {},
     "output_type": "execute_result"
    }
   ],
   "source": [
    "\"\"\"测试空程序\"\"\"\n",
    "tokens = tokenize(\"\")\n",
    "parse(tokens)"
   ]
  },
  {
   "cell_type": "code",
   "execution_count": null,
   "metadata": {},
   "outputs": [
    {
     "data": {
      "text/plain": [
       "['program', [['define', 'x', ['num', 42]]]]"
      ]
     },
     "execution_count": 5,
     "metadata": {},
     "output_type": "execute_result"
    }
   ],
   "source": [
    "\"\"\"测试变量定义\"\"\"\n",
    "tokens = tokenize(\"var x = 42;\")\n",
    "parse(tokens)"
   ]
  },
  {
   "cell_type": "code",
   "execution_count": null,
   "metadata": {},
   "outputs": [
    {
     "data": {
      "text/plain": [
       "['program', [['assign', 'x', ['num', 42]]]]"
      ]
     },
     "execution_count": 4,
     "metadata": {},
     "output_type": "execute_result"
    }
   ],
   "source": [
    "\"\"\"测试赋值语句\"\"\"\n",
    "tokens = tokenize(\"x = 42;\")\n",
    "parse(tokens)"
   ]
  },
  {
   "cell_type": "code",
   "execution_count": null,
   "metadata": {},
   "outputs": [
    {
     "data": {
      "text/plain": [
       "['program', [['print', [['str', 'Hello, World!']]]]]"
      ]
     },
     "execution_count": 28,
     "metadata": {},
     "output_type": "execute_result"
    }
   ],
   "source": [
    "\"\"\"测试打印语句\"\"\"\n",
    "tokens = tokenize('print(\"Hello, World!\");')\n",
    "parse(tokens)"
   ]
  },
  {
   "cell_type": "code",
   "execution_count": null,
   "metadata": {},
   "outputs": [
    {
     "data": {
      "text/plain": [
       "['program',\n",
       " [['if',\n",
       "   ['binary', '>', ['id', 'x'], ['num', 0]],\n",
       "   ['block', [['print', [['str', 'Positive']]]]],\n",
       "   ['block', [['print', [['str', 'Non-positive']]]]]]]]"
      ]
     },
     "execution_count": 29,
     "metadata": {},
     "output_type": "execute_result"
    }
   ],
   "source": [
    "\"\"\"测试if语句\"\"\"\n",
    "tokens = tokenize(\n",
    "            'if (x > 0) { print(\"Positive\"); } else { print(\"Non-positive\"); }'\n",
    "        )\n",
    "parse(tokens)"
   ]
  },
  {
   "cell_type": "code",
   "execution_count": 15,
   "metadata": {},
   "outputs": [
    {
     "data": {
      "text/plain": [
       "['program',\n",
       " [['while',\n",
       "   ['binary', '>', ['id', 'x'], ['num', 0]],\n",
       "   ['block', [['assign', 'x', ['binary', '-', ['id', 'x'], ['num', 1]]]]]]]]"
      ]
     },
     "execution_count": 15,
     "metadata": {},
     "output_type": "execute_result"
    }
   ],
   "source": [
    "\"\"\"测试while语句\"\"\"\n",
    "tokens = tokenize(\"while (x > 0) { x = x - 1; }\")\n",
    "parse(tokens)"
   ]
  },
  {
   "cell_type": "code",
   "execution_count": null,
   "metadata": {},
   "outputs": [
    {
     "data": {
      "text/plain": [
       "['program',\n",
       " [['fun_def',\n",
       "   'add',\n",
       "   ['a', 'b'],\n",
       "   ['block', [['return', ['binary', '+', ['id', 'a'], ['id', 'b']]]]]]]]"
      ]
     },
     "execution_count": 31,
     "metadata": {},
     "output_type": "execute_result"
    }
   ],
   "source": [
    "\"\"\"测试函数定义\"\"\"\n",
    "tokens = tokenize(\"fun add(a, b) { return a + b; }\")\n",
    "parse(tokens)"
   ]
  },
  {
   "cell_type": "code",
   "execution_count": null,
   "metadata": {},
   "outputs": [
    {
     "data": {
      "text/plain": [
       "['program', [['print', [['call', ['id', 'add'], [['num', 2], ['num', 3]]]]]]]"
      ]
     },
     "execution_count": 32,
     "metadata": {},
     "output_type": "execute_result"
    }
   ],
   "source": [
    "\"\"\"测试函数调用\"\"\"\n",
    "tokens = tokenize(\"print(add(2, 3));\")\n",
    "parse(tokens)"
   ]
  },
  {
   "cell_type": "code",
   "execution_count": null,
   "metadata": {},
   "outputs": [
    {
     "data": {
      "text/plain": [
       "['program',\n",
       " [['assign',\n",
       "   'x',\n",
       "   ['binary',\n",
       "    '/',\n",
       "    ['binary',\n",
       "     '*',\n",
       "     ['binary', '+', ['id', 'a'], ['id', 'b']],\n",
       "     ['binary', '-', ['id', 'c'], ['id', 'd']]],\n",
       "    ['num', 2]]]]]"
      ]
     },
     "execution_count": 3,
     "metadata": {},
     "output_type": "execute_result"
    }
   ],
   "source": [
    "\"\"\"测试复杂表达式\"\"\"\n",
    "tokens = tokenize(\"x = (a + b) * (c - d) / 2;\")\n",
    "parse(tokens)"
   ]
  },
  {
   "cell_type": "code",
   "execution_count": null,
   "metadata": {},
   "outputs": [
    {
     "ename": "ParserError",
     "evalue": "cilly parser : 意外的token: ;",
     "output_type": "error",
     "traceback": [
      "\u001b[1;31m---------------------------------------------------------------------------\u001b[0m",
      "\u001b[1;31mParserError\u001b[0m                               Traceback (most recent call last)",
      "Cell \u001b[1;32mIn[35], line 2\u001b[0m\n\u001b[0;32m      1\u001b[0m \u001b[38;5;124;03m\"\"\"测试无效语法\"\"\"\u001b[39;00m\n\u001b[1;32m----> 2\u001b[0m \u001b[43mparse\u001b[49m\u001b[43m(\u001b[49m\u001b[43mtokenize\u001b[49m\u001b[43m(\u001b[49m\u001b[38;5;124;43m\"\u001b[39;49m\u001b[38;5;124;43mvar x = ;\u001b[39;49m\u001b[38;5;124;43m\"\u001b[39;49m\u001b[43m)\u001b[49m\u001b[43m)\u001b[49m\n",
      "File \u001b[1;32md:\\Documents\\GitHub\\MyCompiler\\cilly_work\\cilly\\parser\\parser.py:282\u001b[0m, in \u001b[0;36mparse\u001b[1;34m(tokens)\u001b[0m\n\u001b[0;32m    280\u001b[0m \u001b[38;5;250m\u001b[39m\u001b[38;5;124;03m\"\"\"解析token到抽象语法树\"\"\"\u001b[39;00m\n\u001b[0;32m    281\u001b[0m parser \u001b[38;5;241m=\u001b[39m Parser(tokens)\n\u001b[1;32m--> 282\u001b[0m \u001b[38;5;28;01mreturn\u001b[39;00m \u001b[43mparser\u001b[49m\u001b[38;5;241;43m.\u001b[39;49m\u001b[43mparse\u001b[49m\u001b[43m(\u001b[49m\u001b[43m)\u001b[49m\n",
      "File \u001b[1;32md:\\Documents\\GitHub\\MyCompiler\\cilly_work\\cilly\\parser\\parser.py:38\u001b[0m, in \u001b[0;36mParser.parse\u001b[1;34m(self)\u001b[0m\n\u001b[0;32m     36\u001b[0m \u001b[38;5;28;01mdef\u001b[39;00m \u001b[38;5;21mparse\u001b[39m(\u001b[38;5;28mself\u001b[39m):\n\u001b[0;32m     37\u001b[0m \u001b[38;5;250m    \u001b[39m\u001b[38;5;124;03m\"\"\"解析入口\"\"\"\u001b[39;00m\n\u001b[1;32m---> 38\u001b[0m     \u001b[38;5;28;01mreturn\u001b[39;00m \u001b[38;5;28;43mself\u001b[39;49m\u001b[38;5;241;43m.\u001b[39;49m\u001b[43mprogram\u001b[49m\u001b[43m(\u001b[49m\u001b[43m)\u001b[49m\n",
      "File \u001b[1;32md:\\Documents\\GitHub\\MyCompiler\\cilly_work\\cilly\\parser\\parser.py:44\u001b[0m, in \u001b[0;36mParser.program\u001b[1;34m(self)\u001b[0m\n\u001b[0;32m     42\u001b[0m statements \u001b[38;5;241m=\u001b[39m []\n\u001b[0;32m     43\u001b[0m \u001b[38;5;28;01mwhile\u001b[39;00m get_token_tag(\u001b[38;5;28mself\u001b[39m\u001b[38;5;241m.\u001b[39mcurrent_token) \u001b[38;5;241m!=\u001b[39m \u001b[38;5;124m\"\u001b[39m\u001b[38;5;124meof\u001b[39m\u001b[38;5;124m\"\u001b[39m:\n\u001b[1;32m---> 44\u001b[0m     statements\u001b[38;5;241m.\u001b[39mappend(\u001b[38;5;28;43mself\u001b[39;49m\u001b[38;5;241;43m.\u001b[39;49m\u001b[43mstatement\u001b[49m\u001b[43m(\u001b[49m\u001b[43m)\u001b[49m)\n\u001b[0;32m     45\u001b[0m \u001b[38;5;28;01mreturn\u001b[39;00m [\u001b[38;5;124m\"\u001b[39m\u001b[38;5;124mprogram\u001b[39m\u001b[38;5;124m\"\u001b[39m, statements]\n",
      "File \u001b[1;32md:\\Documents\\GitHub\\MyCompiler\\cilly_work\\cilly\\parser\\parser.py:50\u001b[0m, in \u001b[0;36mParser.statement\u001b[1;34m(self)\u001b[0m\n\u001b[0;32m     48\u001b[0m \u001b[38;5;250m\u001b[39m\u001b[38;5;124;03m\"\"\"解析语句\"\"\"\u001b[39;00m\n\u001b[0;32m     49\u001b[0m \u001b[38;5;28;01mif\u001b[39;00m \u001b[38;5;28mself\u001b[39m\u001b[38;5;241m.\u001b[39mpeek() \u001b[38;5;241m==\u001b[39m \u001b[38;5;124m\"\u001b[39m\u001b[38;5;124mvar\u001b[39m\u001b[38;5;124m\"\u001b[39m:\n\u001b[1;32m---> 50\u001b[0m     \u001b[38;5;28;01mreturn\u001b[39;00m \u001b[38;5;28;43mself\u001b[39;49m\u001b[38;5;241;43m.\u001b[39;49m\u001b[43mdefine_statement\u001b[49m\u001b[43m(\u001b[49m\u001b[43m)\u001b[49m\n\u001b[0;32m     51\u001b[0m \u001b[38;5;28;01melif\u001b[39;00m \u001b[38;5;28mself\u001b[39m\u001b[38;5;241m.\u001b[39mpeek() \u001b[38;5;241m==\u001b[39m \u001b[38;5;124m\"\u001b[39m\u001b[38;5;124mid\u001b[39m\u001b[38;5;124m\"\u001b[39m \u001b[38;5;129;01mand\u001b[39;00m \u001b[38;5;28mself\u001b[39m\u001b[38;5;241m.\u001b[39mpeek(\u001b[38;5;241m1\u001b[39m) \u001b[38;5;241m==\u001b[39m \u001b[38;5;124m\"\u001b[39m\u001b[38;5;124m=\u001b[39m\u001b[38;5;124m\"\u001b[39m:\n\u001b[0;32m     52\u001b[0m     \u001b[38;5;28;01mreturn\u001b[39;00m \u001b[38;5;28mself\u001b[39m\u001b[38;5;241m.\u001b[39massign_statement()\n",
      "File \u001b[1;32md:\\Documents\\GitHub\\MyCompiler\\cilly_work\\cilly\\parser\\parser.py:79\u001b[0m, in \u001b[0;36mParser.define_statement\u001b[1;34m(self)\u001b[0m\n\u001b[0;32m     77\u001b[0m identifier \u001b[38;5;241m=\u001b[39m get_token_value(\u001b[38;5;28mself\u001b[39m\u001b[38;5;241m.\u001b[39mmatch(\u001b[38;5;124m\"\u001b[39m\u001b[38;5;124mid\u001b[39m\u001b[38;5;124m\"\u001b[39m))\n\u001b[0;32m     78\u001b[0m \u001b[38;5;28mself\u001b[39m\u001b[38;5;241m.\u001b[39mmatch(\u001b[38;5;124m\"\u001b[39m\u001b[38;5;124m=\u001b[39m\u001b[38;5;124m\"\u001b[39m)\n\u001b[1;32m---> 79\u001b[0m expr \u001b[38;5;241m=\u001b[39m \u001b[38;5;28;43mself\u001b[39;49m\u001b[38;5;241;43m.\u001b[39;49m\u001b[43mexpr\u001b[49m\u001b[43m(\u001b[49m\u001b[43m)\u001b[49m\n\u001b[0;32m     80\u001b[0m \u001b[38;5;28mself\u001b[39m\u001b[38;5;241m.\u001b[39mmatch(\u001b[38;5;124m\"\u001b[39m\u001b[38;5;124m;\u001b[39m\u001b[38;5;124m\"\u001b[39m)\n\u001b[0;32m     81\u001b[0m \u001b[38;5;28;01mreturn\u001b[39;00m [\u001b[38;5;124m\"\u001b[39m\u001b[38;5;124mdefine\u001b[39m\u001b[38;5;124m\"\u001b[39m, identifier, expr]\n",
      "File \u001b[1;32md:\\Documents\\GitHub\\MyCompiler\\cilly_work\\cilly\\parser\\parser.py:182\u001b[0m, in \u001b[0;36mParser.expr\u001b[1;34m(self, bp)\u001b[0m\n\u001b[0;32m    179\u001b[0m token \u001b[38;5;241m=\u001b[39m \u001b[38;5;28mself\u001b[39m\u001b[38;5;241m.\u001b[39mcurrent_token\n\u001b[0;32m    180\u001b[0m \u001b[38;5;28mself\u001b[39m\u001b[38;5;241m.\u001b[39madvance()\n\u001b[1;32m--> 182\u001b[0m left \u001b[38;5;241m=\u001b[39m \u001b[38;5;28;43mself\u001b[39;49m\u001b[38;5;241;43m.\u001b[39;49m\u001b[43mnud\u001b[49m\u001b[43m(\u001b[49m\u001b[43mtoken\u001b[49m\u001b[43m)\u001b[49m\n\u001b[0;32m    184\u001b[0m \u001b[38;5;28;01mwhile\u001b[39;00m bp \u001b[38;5;241m<\u001b[39m \u001b[38;5;28mself\u001b[39m\u001b[38;5;241m.\u001b[39mlbp(\u001b[38;5;28mself\u001b[39m\u001b[38;5;241m.\u001b[39mcurrent_token):\n\u001b[0;32m    185\u001b[0m     token \u001b[38;5;241m=\u001b[39m \u001b[38;5;28mself\u001b[39m\u001b[38;5;241m.\u001b[39mcurrent_token\n",
      "File \u001b[1;32md:\\Documents\\GitHub\\MyCompiler\\cilly_work\\cilly\\parser\\parser.py:206\u001b[0m, in \u001b[0;36mParser.nud\u001b[1;34m(self, token)\u001b[0m\n\u001b[0;32m    204\u001b[0m     \u001b[38;5;28;01mreturn\u001b[39;00m \u001b[38;5;28mself\u001b[39m\u001b[38;5;241m.\u001b[39mfun_expr()\n\u001b[0;32m    205\u001b[0m \u001b[38;5;28;01melse\u001b[39;00m:\n\u001b[1;32m--> 206\u001b[0m     \u001b[38;5;28;01mraise\u001b[39;00m ParserError(\u001b[38;5;124mf\u001b[39m\u001b[38;5;124m\"\u001b[39m\u001b[38;5;124m意外的token: \u001b[39m\u001b[38;5;132;01m{\u001b[39;00mtag\u001b[38;5;132;01m}\u001b[39;00m\u001b[38;5;124m\"\u001b[39m)\n",
      "\u001b[1;31mParserError\u001b[0m: cilly parser : 意外的token: ;"
     ]
    }
   ],
   "source": [
    "\"\"\"测试无效语法\"\"\"\n",
    "parse(tokenize(\"var x = ;\"))"
   ]
  },
  {
   "cell_type": "markdown",
   "metadata": {},
   "source": [
    "# 集成测试"
   ]
  },
  {
   "cell_type": "code",
   "execution_count": 17,
   "metadata": {},
   "outputs": [
    {
     "data": {
      "text/plain": [
       "['program',\n",
       " [['define', 'pi', ['num', 3.1415926]],\n",
       "  ['define',\n",
       "   'area',\n",
       "   ['fun',\n",
       "    ['r'],\n",
       "    ['block',\n",
       "     [['return',\n",
       "       ['binary',\n",
       "        '*',\n",
       "        ['binary', '*', ['id', 'pi'], ['id', 'r']],\n",
       "        ['id', 'r']]]]]]],\n",
       "  ['print',\n",
       "   [['call', ['id', 'area'], [['num', 10]]],\n",
       "    ['call', ['id', 'area'], [['num', 20]]]]],\n",
       "  ['define',\n",
       "   'abs',\n",
       "   ['fun',\n",
       "    ['x'],\n",
       "    ['block',\n",
       "     [['if',\n",
       "       ['binary', '<', ['id', 'x'], ['num', 0]],\n",
       "       ['return', ['unary', '-', ['id', 'x']]],\n",
       "       ['return', ['id', 'x']]]]]]],\n",
       "  ['define',\n",
       "   'sqrt',\n",
       "   ['fun',\n",
       "    ['x'],\n",
       "    ['block',\n",
       "     [['define',\n",
       "       'iter',\n",
       "       ['fun',\n",
       "        ['guess'],\n",
       "        ['block',\n",
       "         [['if',\n",
       "           ['binary',\n",
       "            '<',\n",
       "            ['call',\n",
       "             ['id', 'abs'],\n",
       "             [['binary',\n",
       "               '-',\n",
       "               ['id', 'x'],\n",
       "               ['binary', '*', ['id', 'guess'], ['id', 'guess']]]]],\n",
       "            ['num', 0.0001]],\n",
       "           ['return', ['id', 'guess']],\n",
       "           ['return',\n",
       "            ['call',\n",
       "             ['id', 'iter'],\n",
       "             [['binary',\n",
       "               '/',\n",
       "               ['binary',\n",
       "                '+',\n",
       "                ['id', 'guess'],\n",
       "                ['binary', '/', ['id', 'x'], ['id', 'guess']]],\n",
       "               ['num', 2]]]]]]]]]],\n",
       "      ['return', ['call', ['id', 'iter'], [['num', 1]]]]]]]],\n",
       "  ['print',\n",
       "   [['call', ['id', 'sqrt'], [['num', 2]]],\n",
       "    ['binary',\n",
       "     '*',\n",
       "     ['call', ['id', 'sqrt'], [['num', 2]]],\n",
       "     ['call', ['id', 'sqrt'], [['num', 2]]]]]],\n",
       "  ['define',\n",
       "   'make_counter',\n",
       "   ['fun',\n",
       "    ['i'],\n",
       "    ['block',\n",
       "     [['return',\n",
       "       ['fun',\n",
       "        [],\n",
       "        ['block',\n",
       "         [['assign', 'i', ['binary', '+', ['id', 'i'], ['num', 1]]],\n",
       "          ['return', ['id', 'i']]]]]]]]]],\n",
       "  ['define', 'c1', ['call', ['id', 'make_counter'], [['num', 0]]]],\n",
       "  ['define', 'c2', ['call', ['id', 'make_counter'], [['num', 0]]]],\n",
       "  ['print',\n",
       "   [['call', ['id', 'c1'], []],\n",
       "    ['call', ['id', 'c1'], []],\n",
       "    ['call', ['id', 'c2'], []]]],\n",
       "  ['define',\n",
       "   'K',\n",
       "   ['fun',\n",
       "    ['a'],\n",
       "    ['block',\n",
       "     [['return', ['fun', ['b'], ['block', [['return', ['id', 'a']]]]]]]]]],\n",
       "  ['define',\n",
       "   'KI',\n",
       "   ['fun',\n",
       "    ['a'],\n",
       "    ['block',\n",
       "     [['return', ['fun', ['b'], ['block', [['return', ['id', 'b']]]]]]]]]],\n",
       "  ['define',\n",
       "   'pair',\n",
       "   ['fun',\n",
       "    ['a', 'b'],\n",
       "    ['block',\n",
       "     [['return',\n",
       "       ['fun',\n",
       "        ['f'],\n",
       "        ['block',\n",
       "         [['return',\n",
       "           ['call',\n",
       "            ['call', ['id', 'f'], [['id', 'a']]],\n",
       "            [['id', 'b']]]]]]]]]]]],\n",
       "  ['define',\n",
       "   'first',\n",
       "   ['fun',\n",
       "    ['p'],\n",
       "    ['block', [['return', ['call', ['id', 'p'], [['id', 'K']]]]]]]],\n",
       "  ['define',\n",
       "   'second',\n",
       "   ['fun',\n",
       "    ['p'],\n",
       "    ['block', [['return', ['call', ['id', 'p'], [['id', 'KI']]]]]]]],\n",
       "  ['define', 'p', ['call', ['id', 'pair'], [['num', 1], ['num', 2]]]],\n",
       "  ['print',\n",
       "   [['call', ['id', 'first'], [['id', 'p']]],\n",
       "    ['call', ['id', 'second'], [['id', 'p']]]]],\n",
       "  ['define',\n",
       "   'fact',\n",
       "   ['fun',\n",
       "    ['n'],\n",
       "    ['block',\n",
       "     [['if',\n",
       "       ['binary', '==', ['id', 'n'], ['num', 0]],\n",
       "       ['return', ['num', 1]],\n",
       "       ['return',\n",
       "        ['binary',\n",
       "         '*',\n",
       "         ['id', 'n'],\n",
       "         ['call',\n",
       "          ['id', 'fact'],\n",
       "          [['binary', '-', ['id', 'n'], ['num', 1]]]]]]]]]]],\n",
       "  ['define',\n",
       "   'fact2',\n",
       "   ['fun',\n",
       "    ['n'],\n",
       "    ['block',\n",
       "     [['define', 'r', ['num', 1]],\n",
       "      ['define', 'i', ['id', 'n']],\n",
       "      ['while',\n",
       "       ['binary', '>', ['id', 'n'], ['num', 0]],\n",
       "       ['block',\n",
       "        [['assign', 'r', ['binary', '*', ['id', 'n'], ['id', 'r']]],\n",
       "         ['assign', 'n', ['binary', '-', ['id', 'n'], ['num', 1]]]]]],\n",
       "      ['return', ['id', 'r']]]]]]]]"
      ]
     },
     "execution_count": 17,
     "metadata": {},
     "output_type": "execute_result"
    }
   ],
   "source": [
    "p1 = \"\"\"\n",
    "    var pi = 3.1415926;\n",
    "    \n",
    "    var area = fun(r) {\n",
    "        return pi * r * r;\n",
    "    } ;\n",
    "    \n",
    "    print(area(10), area(20));\n",
    "    \n",
    "    var abs = fun(x) {\n",
    "        if(x < 0)\n",
    "            return -x;\n",
    "        else\n",
    "            return x;\n",
    "    } ;\n",
    "    \n",
    "    var sqrt = fun(x) {\n",
    "        var iter = fun(guess) {\n",
    "            if( abs(x - guess * guess) < 0.0001 )\n",
    "                return guess;\n",
    "            else\n",
    "                return iter((guess + x / guess) / 2);\n",
    "        };\n",
    "        \n",
    "        return iter(1);\n",
    "    \n",
    "    };\n",
    "    \n",
    "    print(sqrt(2), sqrt(2) * sqrt(2));\n",
    "    \n",
    "    var make_counter = fun(i) {\n",
    "        return fun() {\n",
    "            i = i + 1;\n",
    "            return i;\n",
    "        };\n",
    "    };\n",
    "    \n",
    "    var c1 = make_counter(0);\n",
    "    var c2 = make_counter(0);\n",
    "    \n",
    "    print(c1(), c1(), c2());\n",
    "    \n",
    "    var K = fun(a) {\n",
    "        return fun(b) {\n",
    "            return a;\n",
    "        };\n",
    "    };\n",
    "    \n",
    "    var KI = fun(a) {\n",
    "        return fun(b) {\n",
    "            return b;\n",
    "        };\n",
    "    };\n",
    "\n",
    "    var pair = fun(a,b) {\n",
    "        return fun(f) {\n",
    "            return f(a)(b);\n",
    "        };\n",
    "    };\n",
    "    \n",
    "    var first = fun(p) {\n",
    "        return p(K);\n",
    "    };\n",
    "    \n",
    "    var second = fun(p) {\n",
    "        return p(KI);\n",
    "    };\n",
    "    \n",
    "    var p = pair(1,2);\n",
    "    \n",
    "    print(first(p), second(p));\n",
    "    \n",
    "    var fact = fun(n) {\n",
    "        if(n == 0)\n",
    "            return 1;\n",
    "        else\n",
    "            return n * fact(n-1);\n",
    "   };\n",
    "   \n",
    "   var fact2 = fun(n) {\n",
    "       var r = 1;\n",
    "       var i = n;\n",
    "       \n",
    "       while(n > 0) {\n",
    "           r = n * r;\n",
    "           n = n - 1;\n",
    "       }\n",
    "       \n",
    "       return r;\n",
    "       \n",
    "   };\n",
    "\"\"\"\n",
    "\n",
    "parse(tokenize(p1))"
   ]
  }
 ],
 "metadata": {
  "kernelspec": {
   "display_name": "python39",
   "language": "python",
   "name": "python3"
  },
  "language_info": {
   "codemirror_mode": {
    "name": "ipython",
    "version": 3
   },
   "file_extension": ".py",
   "mimetype": "text/x-python",
   "name": "python",
   "nbconvert_exporter": "python",
   "pygments_lexer": "ipython3",
   "version": "3.9.19"
  }
 },
 "nbformat": 4,
 "nbformat_minor": 2
}
